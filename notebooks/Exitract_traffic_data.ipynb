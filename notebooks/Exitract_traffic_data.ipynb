{
  "cells": [
    {
      "cell_type": "code",
      "execution_count": 2,
      "metadata": {
        "colab": {
          "base_uri": "https://localhost:8080/"
        },
        "id": "vrjNd0UPiC8h",
        "outputId": "13a0c6ad-5eb5-45df-ae6e-2f997f23849f"
      },
      "outputs": [
        {
          "name": "stdout",
          "output_type": "stream",
          "text": [
            "CSV file 'traffic_data.csv' has been created successfully.\n"
          ]
        }
      ],
      "source": [
        "import json\n",
        "import csv\n",
        "\n",
        "# Read the JSON file\n",
        "with open(\"/home/elsadany/university/ML_Project/github_project/Traffic_Predictor/data/external/traffic.txt\", \"r\") as file:\n",
        "    data = json.load(file)  # Assuming the file contains a valid JSON array\n",
        "\n",
        "# Define the CSV file and column names\n",
        "csv_file = \"traffic_data.csv\"\n",
        "columns = [\n",
        "    \"ID\",\"SPEED\",\"TRAVEL_TIME\",\"STATUS\",\n",
        "    \"DATA_AS_OF\",\"LINK_ID\",\"LINK_POINTS\",\n",
        "    \"ENCODED_POLY_LINE\",\"ENCODED_POLY_LINE_LVLS\",\n",
        "    \"OWNER\",\"TRANSCOM_ID\",\"BOROUGH\",\"LINK_NAME\"\n",
        "]\n",
        "\n",
        "# Write to CSV\n",
        "with open(csv_file, \"w\", newline=\"\") as csvfile:\n",
        "    writer = csv.DictWriter(csvfile, fieldnames=columns)\n",
        "    writer.writeheader()\n",
        "    for row in data:\n",
        "        writer.writerow({\n",
        "            \"ID\": row[\"id\"],\n",
        "            \"SPEED\": row[\"speed\"],\n",
        "            \"TRAVEL_TIME\": row[\"travel_time\"],\n",
        "            \"STATUS\": row[\"status\"],\n",
        "            \"DATA_AS_OF\": row[\"data_as_of\"],\n",
        "            \"LINK_ID\": row[\"link_id\"],\n",
        "            \"LINK_POINTS\": row[\"link_points\"],\n",
        "            \"ENCODED_POLY_LINE\": row[\"encoded_poly_line\"],\n",
        "            \"ENCODED_POLY_LINE_LVLS\": row[\"encoded_poly_line_lvls\"],\n",
        "            \"OWNER\": row[\"owner\"],\n",
        "            \"TRANSCOM_ID\": row[\"transcom_id\"],\n",
        "            \"BOROUGH\": row[\"borough\"],\n",
        "            \"LINK_NAME\": row[\"link_name\"]\n",
        "\n",
        "        })\n",
        "\n",
        "print(f\"CSV file '{csv_file}' has been created successfully.\")\n",
        "\n"
      ]
    },
    {
      "cell_type": "code",
      "execution_count": null,
      "metadata": {},
      "outputs": [],
      "source": []
    }
  ],
  "metadata": {
    "colab": {
      "provenance": []
    },
    "kernelspec": {
      "display_name": "base",
      "language": "python",
      "name": "python3"
    },
    "language_info": {
      "codemirror_mode": {
        "name": "ipython",
        "version": 3
      },
      "file_extension": ".py",
      "mimetype": "text/x-python",
      "name": "python",
      "nbconvert_exporter": "python",
      "pygments_lexer": "ipython3",
      "version": "3.11.7"
    }
  },
  "nbformat": 4,
  "nbformat_minor": 0
}
