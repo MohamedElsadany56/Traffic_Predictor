{
 "cells": [
  {
   "cell_type": "code",
   "execution_count": 1,
   "metadata": {
    "id": "th423QVFAhLk"
   },
   "outputs": [],
   "source": [
    "import pandas as pd\n",
    "import matplotlib.pyplot as plt\n",
    "import seaborn as sns\n",
    "import numpy as np"
   ]
  },
  {
   "cell_type": "code",
   "execution_count": null,
   "metadata": {
    "colab": {
     "base_uri": "https://localhost:8080/"
    },
    "id": "UL5O8njTAi34",
    "outputId": "43b457e6-3d02-4edd-e593-4a17ab1e7e82"
   },
   "outputs": [],
   "source": [
    "df = pd.read_csv('../data/merged/features.csv')"
   ]
  },
  {
   "cell_type": "code",
   "execution_count": 7,
   "metadata": {
    "colab": {
     "base_uri": "https://localhost:8080/",
     "height": 825
    },
    "id": "iz60LFT7A1O3",
    "outputId": "3f006389-a001-4df0-f0dd-c630fae35d11"
   },
   "outputs": [
    {
     "data": {
      "text/html": [
       "<div>\n",
       "<style scoped>\n",
       "    .dataframe tbody tr th:only-of-type {\n",
       "        vertical-align: middle;\n",
       "    }\n",
       "\n",
       "    .dataframe tbody tr th {\n",
       "        vertical-align: top;\n",
       "    }\n",
       "\n",
       "    .dataframe thead th {\n",
       "        text-align: right;\n",
       "    }\n",
       "</style>\n",
       "<table border=\"1\" class=\"dataframe\">\n",
       "  <thead>\n",
       "    <tr style=\"text-align: right;\">\n",
       "      <th></th>\n",
       "      <th>speed</th>\n",
       "      <th>travel_time</th>\n",
       "      <th>data_as_of</th>\n",
       "      <th>link_points</th>\n",
       "      <th>hour_sin</th>\n",
       "      <th>hour_cos</th>\n",
       "      <th>minute_sin</th>\n",
       "      <th>minute_cos</th>\n",
       "      <th>day_sin</th>\n",
       "      <th>day_cos</th>\n",
       "      <th>...</th>\n",
       "      <th>factor1_Reaction to Uninvolved Vehicle</th>\n",
       "      <th>factor1_Steering Failure</th>\n",
       "      <th>factor1_Tire Failure/Inadequate</th>\n",
       "      <th>factor1_Traffic Control Disregarded</th>\n",
       "      <th>factor1_Turning Improperly</th>\n",
       "      <th>factor1_Unsafe Lane Changing</th>\n",
       "      <th>factor1_Unsafe Speed</th>\n",
       "      <th>factor1_Unspecified</th>\n",
       "      <th>factor1_View Obstructed/Limited</th>\n",
       "      <th>factor1_Windshield Inadequate</th>\n",
       "    </tr>\n",
       "  </thead>\n",
       "  <tbody>\n",
       "    <tr>\n",
       "      <th>0</th>\n",
       "      <td>0.840670</td>\n",
       "      <td>0.063321</td>\n",
       "      <td>2021-05-23 00:00:00</td>\n",
       "      <td>40.6665206,-73.76246 40.66738,-73.77021 40.667...</td>\n",
       "      <td>0.000000</td>\n",
       "      <td>1.000000</td>\n",
       "      <td>0.0</td>\n",
       "      <td>1.0</td>\n",
       "      <td>-0.781831</td>\n",
       "      <td>0.623490</td>\n",
       "      <td>...</td>\n",
       "      <td>False</td>\n",
       "      <td>False</td>\n",
       "      <td>False</td>\n",
       "      <td>False</td>\n",
       "      <td>False</td>\n",
       "      <td>False</td>\n",
       "      <td>False</td>\n",
       "      <td>False</td>\n",
       "      <td>False</td>\n",
       "      <td>False</td>\n",
       "    </tr>\n",
       "    <tr>\n",
       "      <th>1</th>\n",
       "      <td>0.900159</td>\n",
       "      <td>0.058658</td>\n",
       "      <td>2021-05-23 01:00:00</td>\n",
       "      <td>40.6665206,-73.76246 40.66738,-73.77021 40.667...</td>\n",
       "      <td>0.258819</td>\n",
       "      <td>0.965926</td>\n",
       "      <td>0.0</td>\n",
       "      <td>1.0</td>\n",
       "      <td>-0.781831</td>\n",
       "      <td>0.623490</td>\n",
       "      <td>...</td>\n",
       "      <td>False</td>\n",
       "      <td>False</td>\n",
       "      <td>False</td>\n",
       "      <td>False</td>\n",
       "      <td>False</td>\n",
       "      <td>False</td>\n",
       "      <td>False</td>\n",
       "      <td>False</td>\n",
       "      <td>False</td>\n",
       "      <td>False</td>\n",
       "    </tr>\n",
       "    <tr>\n",
       "      <th>2</th>\n",
       "      <td>0.923604</td>\n",
       "      <td>0.057007</td>\n",
       "      <td>2021-05-23 02:00:00</td>\n",
       "      <td>40.6665206,-73.76246 40.66738,-73.77021 40.667...</td>\n",
       "      <td>0.500000</td>\n",
       "      <td>0.866025</td>\n",
       "      <td>0.0</td>\n",
       "      <td>1.0</td>\n",
       "      <td>-0.781831</td>\n",
       "      <td>0.623490</td>\n",
       "      <td>...</td>\n",
       "      <td>False</td>\n",
       "      <td>False</td>\n",
       "      <td>False</td>\n",
       "      <td>False</td>\n",
       "      <td>False</td>\n",
       "      <td>False</td>\n",
       "      <td>False</td>\n",
       "      <td>False</td>\n",
       "      <td>False</td>\n",
       "      <td>False</td>\n",
       "    </tr>\n",
       "    <tr>\n",
       "      <th>3</th>\n",
       "      <td>0.927751</td>\n",
       "      <td>0.056842</td>\n",
       "      <td>2021-05-23 03:00:00</td>\n",
       "      <td>40.6665206,-73.76246 40.66738,-73.77021 40.667...</td>\n",
       "      <td>0.707107</td>\n",
       "      <td>0.707107</td>\n",
       "      <td>0.0</td>\n",
       "      <td>1.0</td>\n",
       "      <td>-0.781831</td>\n",
       "      <td>0.623490</td>\n",
       "      <td>...</td>\n",
       "      <td>False</td>\n",
       "      <td>False</td>\n",
       "      <td>False</td>\n",
       "      <td>False</td>\n",
       "      <td>False</td>\n",
       "      <td>False</td>\n",
       "      <td>False</td>\n",
       "      <td>False</td>\n",
       "      <td>False</td>\n",
       "      <td>False</td>\n",
       "    </tr>\n",
       "    <tr>\n",
       "      <th>4</th>\n",
       "      <td>0.956300</td>\n",
       "      <td>0.054989</td>\n",
       "      <td>2021-05-23 04:00:00</td>\n",
       "      <td>40.6665206,-73.76246 40.66738,-73.77021 40.667...</td>\n",
       "      <td>0.866025</td>\n",
       "      <td>0.500000</td>\n",
       "      <td>0.0</td>\n",
       "      <td>1.0</td>\n",
       "      <td>-0.781831</td>\n",
       "      <td>0.623490</td>\n",
       "      <td>...</td>\n",
       "      <td>False</td>\n",
       "      <td>False</td>\n",
       "      <td>False</td>\n",
       "      <td>False</td>\n",
       "      <td>False</td>\n",
       "      <td>False</td>\n",
       "      <td>False</td>\n",
       "      <td>False</td>\n",
       "      <td>False</td>\n",
       "      <td>False</td>\n",
       "    </tr>\n",
       "    <tr>\n",
       "      <th>...</th>\n",
       "      <td>...</td>\n",
       "      <td>...</td>\n",
       "      <td>...</td>\n",
       "      <td>...</td>\n",
       "      <td>...</td>\n",
       "      <td>...</td>\n",
       "      <td>...</td>\n",
       "      <td>...</td>\n",
       "      <td>...</td>\n",
       "      <td>...</td>\n",
       "      <td>...</td>\n",
       "      <td>...</td>\n",
       "      <td>...</td>\n",
       "      <td>...</td>\n",
       "      <td>...</td>\n",
       "      <td>...</td>\n",
       "      <td>...</td>\n",
       "      <td>...</td>\n",
       "      <td>...</td>\n",
       "      <td>...</td>\n",
       "      <td>...</td>\n",
       "    </tr>\n",
       "    <tr>\n",
       "      <th>31521</th>\n",
       "      <td>0.589633</td>\n",
       "      <td>0.092616</td>\n",
       "      <td>2025-05-21 19:00:00</td>\n",
       "      <td>40.6665206,-73.76246 40.66738,-73.77021 40.667...</td>\n",
       "      <td>-0.965926</td>\n",
       "      <td>0.258819</td>\n",
       "      <td>0.0</td>\n",
       "      <td>1.0</td>\n",
       "      <td>0.974928</td>\n",
       "      <td>-0.222521</td>\n",
       "      <td>...</td>\n",
       "      <td>False</td>\n",
       "      <td>False</td>\n",
       "      <td>False</td>\n",
       "      <td>False</td>\n",
       "      <td>False</td>\n",
       "      <td>False</td>\n",
       "      <td>False</td>\n",
       "      <td>False</td>\n",
       "      <td>False</td>\n",
       "      <td>False</td>\n",
       "    </tr>\n",
       "    <tr>\n",
       "      <th>31522</th>\n",
       "      <td>0.573046</td>\n",
       "      <td>0.095272</td>\n",
       "      <td>2025-05-21 20:00:00</td>\n",
       "      <td>40.6665206,-73.76246 40.66738,-73.77021 40.667...</td>\n",
       "      <td>-0.866025</td>\n",
       "      <td>0.500000</td>\n",
       "      <td>0.0</td>\n",
       "      <td>1.0</td>\n",
       "      <td>0.974928</td>\n",
       "      <td>-0.222521</td>\n",
       "      <td>...</td>\n",
       "      <td>False</td>\n",
       "      <td>False</td>\n",
       "      <td>False</td>\n",
       "      <td>False</td>\n",
       "      <td>False</td>\n",
       "      <td>False</td>\n",
       "      <td>False</td>\n",
       "      <td>False</td>\n",
       "      <td>False</td>\n",
       "      <td>False</td>\n",
       "    </tr>\n",
       "    <tr>\n",
       "      <th>31523</th>\n",
       "      <td>0.577193</td>\n",
       "      <td>0.094383</td>\n",
       "      <td>2025-05-21 21:00:00</td>\n",
       "      <td>40.6665206,-73.76246 40.66738,-73.77021 40.667...</td>\n",
       "      <td>-0.707107</td>\n",
       "      <td>0.707107</td>\n",
       "      <td>0.0</td>\n",
       "      <td>1.0</td>\n",
       "      <td>0.974928</td>\n",
       "      <td>-0.222521</td>\n",
       "      <td>...</td>\n",
       "      <td>False</td>\n",
       "      <td>False</td>\n",
       "      <td>False</td>\n",
       "      <td>False</td>\n",
       "      <td>False</td>\n",
       "      <td>False</td>\n",
       "      <td>False</td>\n",
       "      <td>False</td>\n",
       "      <td>False</td>\n",
       "      <td>False</td>\n",
       "    </tr>\n",
       "    <tr>\n",
       "      <th>31524</th>\n",
       "      <td>0.607815</td>\n",
       "      <td>0.089720</td>\n",
       "      <td>2025-05-21 22:00:00</td>\n",
       "      <td>40.6665206,-73.76246 40.66738,-73.77021 40.667...</td>\n",
       "      <td>-0.500000</td>\n",
       "      <td>0.866025</td>\n",
       "      <td>0.0</td>\n",
       "      <td>1.0</td>\n",
       "      <td>0.974928</td>\n",
       "      <td>-0.222521</td>\n",
       "      <td>...</td>\n",
       "      <td>False</td>\n",
       "      <td>False</td>\n",
       "      <td>False</td>\n",
       "      <td>False</td>\n",
       "      <td>False</td>\n",
       "      <td>False</td>\n",
       "      <td>False</td>\n",
       "      <td>False</td>\n",
       "      <td>False</td>\n",
       "      <td>False</td>\n",
       "    </tr>\n",
       "    <tr>\n",
       "      <th>31525</th>\n",
       "      <td>0.647368</td>\n",
       "      <td>0.083598</td>\n",
       "      <td>2025-05-21 23:00:00</td>\n",
       "      <td>40.6665206,-73.76246 40.66738,-73.77021 40.667...</td>\n",
       "      <td>-0.258819</td>\n",
       "      <td>0.965926</td>\n",
       "      <td>0.0</td>\n",
       "      <td>1.0</td>\n",
       "      <td>0.974928</td>\n",
       "      <td>-0.222521</td>\n",
       "      <td>...</td>\n",
       "      <td>False</td>\n",
       "      <td>False</td>\n",
       "      <td>False</td>\n",
       "      <td>False</td>\n",
       "      <td>False</td>\n",
       "      <td>False</td>\n",
       "      <td>False</td>\n",
       "      <td>False</td>\n",
       "      <td>False</td>\n",
       "      <td>False</td>\n",
       "    </tr>\n",
       "  </tbody>\n",
       "</table>\n",
       "<p>31526 rows × 87 columns</p>\n",
       "</div>"
      ],
      "text/plain": [
       "          speed  travel_time           data_as_of  \\\n",
       "0      0.840670     0.063321  2021-05-23 00:00:00   \n",
       "1      0.900159     0.058658  2021-05-23 01:00:00   \n",
       "2      0.923604     0.057007  2021-05-23 02:00:00   \n",
       "3      0.927751     0.056842  2021-05-23 03:00:00   \n",
       "4      0.956300     0.054989  2021-05-23 04:00:00   \n",
       "...         ...          ...                  ...   \n",
       "31521  0.589633     0.092616  2025-05-21 19:00:00   \n",
       "31522  0.573046     0.095272  2025-05-21 20:00:00   \n",
       "31523  0.577193     0.094383  2025-05-21 21:00:00   \n",
       "31524  0.607815     0.089720  2025-05-21 22:00:00   \n",
       "31525  0.647368     0.083598  2025-05-21 23:00:00   \n",
       "\n",
       "                                             link_points  hour_sin  hour_cos  \\\n",
       "0      40.6665206,-73.76246 40.66738,-73.77021 40.667...  0.000000  1.000000   \n",
       "1      40.6665206,-73.76246 40.66738,-73.77021 40.667...  0.258819  0.965926   \n",
       "2      40.6665206,-73.76246 40.66738,-73.77021 40.667...  0.500000  0.866025   \n",
       "3      40.6665206,-73.76246 40.66738,-73.77021 40.667...  0.707107  0.707107   \n",
       "4      40.6665206,-73.76246 40.66738,-73.77021 40.667...  0.866025  0.500000   \n",
       "...                                                  ...       ...       ...   \n",
       "31521  40.6665206,-73.76246 40.66738,-73.77021 40.667... -0.965926  0.258819   \n",
       "31522  40.6665206,-73.76246 40.66738,-73.77021 40.667... -0.866025  0.500000   \n",
       "31523  40.6665206,-73.76246 40.66738,-73.77021 40.667... -0.707107  0.707107   \n",
       "31524  40.6665206,-73.76246 40.66738,-73.77021 40.667... -0.500000  0.866025   \n",
       "31525  40.6665206,-73.76246 40.66738,-73.77021 40.667... -0.258819  0.965926   \n",
       "\n",
       "       minute_sin  minute_cos   day_sin   day_cos  ...  \\\n",
       "0             0.0         1.0 -0.781831  0.623490  ...   \n",
       "1             0.0         1.0 -0.781831  0.623490  ...   \n",
       "2             0.0         1.0 -0.781831  0.623490  ...   \n",
       "3             0.0         1.0 -0.781831  0.623490  ...   \n",
       "4             0.0         1.0 -0.781831  0.623490  ...   \n",
       "...           ...         ...       ...       ...  ...   \n",
       "31521         0.0         1.0  0.974928 -0.222521  ...   \n",
       "31522         0.0         1.0  0.974928 -0.222521  ...   \n",
       "31523         0.0         1.0  0.974928 -0.222521  ...   \n",
       "31524         0.0         1.0  0.974928 -0.222521  ...   \n",
       "31525         0.0         1.0  0.974928 -0.222521  ...   \n",
       "\n",
       "       factor1_Reaction to Uninvolved Vehicle  factor1_Steering Failure  \\\n",
       "0                                       False                     False   \n",
       "1                                       False                     False   \n",
       "2                                       False                     False   \n",
       "3                                       False                     False   \n",
       "4                                       False                     False   \n",
       "...                                       ...                       ...   \n",
       "31521                                   False                     False   \n",
       "31522                                   False                     False   \n",
       "31523                                   False                     False   \n",
       "31524                                   False                     False   \n",
       "31525                                   False                     False   \n",
       "\n",
       "       factor1_Tire Failure/Inadequate  factor1_Traffic Control Disregarded  \\\n",
       "0                                False                                False   \n",
       "1                                False                                False   \n",
       "2                                False                                False   \n",
       "3                                False                                False   \n",
       "4                                False                                False   \n",
       "...                                ...                                  ...   \n",
       "31521                            False                                False   \n",
       "31522                            False                                False   \n",
       "31523                            False                                False   \n",
       "31524                            False                                False   \n",
       "31525                            False                                False   \n",
       "\n",
       "       factor1_Turning Improperly  factor1_Unsafe Lane Changing  \\\n",
       "0                           False                         False   \n",
       "1                           False                         False   \n",
       "2                           False                         False   \n",
       "3                           False                         False   \n",
       "4                           False                         False   \n",
       "...                           ...                           ...   \n",
       "31521                       False                         False   \n",
       "31522                       False                         False   \n",
       "31523                       False                         False   \n",
       "31524                       False                         False   \n",
       "31525                       False                         False   \n",
       "\n",
       "       factor1_Unsafe Speed  factor1_Unspecified  \\\n",
       "0                     False                False   \n",
       "1                     False                False   \n",
       "2                     False                False   \n",
       "3                     False                False   \n",
       "4                     False                False   \n",
       "...                     ...                  ...   \n",
       "31521                 False                False   \n",
       "31522                 False                False   \n",
       "31523                 False                False   \n",
       "31524                 False                False   \n",
       "31525                 False                False   \n",
       "\n",
       "       factor1_View Obstructed/Limited  factor1_Windshield Inadequate  \n",
       "0                                False                          False  \n",
       "1                                False                          False  \n",
       "2                                False                          False  \n",
       "3                                False                          False  \n",
       "4                                False                          False  \n",
       "...                                ...                            ...  \n",
       "31521                            False                          False  \n",
       "31522                            False                          False  \n",
       "31523                            False                          False  \n",
       "31524                            False                          False  \n",
       "31525                            False                          False  \n",
       "\n",
       "[31526 rows x 87 columns]"
      ]
     },
     "execution_count": 7,
     "metadata": {},
     "output_type": "execute_result"
    }
   ],
   "source": [
    "df"
   ]
  },
  {
   "cell_type": "code",
   "execution_count": 8,
   "metadata": {
    "colab": {
     "base_uri": "https://localhost:8080/"
    },
    "id": "GUH512pCBOvI",
    "outputId": "3bdaf87e-87cc-46c8-e460-644d9d2e1194"
   },
   "outputs": [
    {
     "data": {
      "text/plain": [
       "Index(['speed', 'travel_time', 'data_as_of', 'link_points', 'hour_sin',\n",
       "       'hour_cos', 'minute_sin', 'minute_cos', 'day_sin', 'day_cos',\n",
       "       'week_num_sin', 'week_num_cos', 'month_sin', 'month_cos', 'is_holiday',\n",
       "       'is_non_business_day', 'temp', 'feelslike', 'dew', 'humidity', 'precip',\n",
       "       'snow', 'snowdepth', 'windgust', 'windspeed', 'winddir', 'cloudcover',\n",
       "       'visibility', 'solarradiation', 'solarenergy', 'uvindex', 'hour',\n",
       "       'icon_clear', 'icon_cloudy', 'icon_fog', 'icon_partly cloudy',\n",
       "       'icon_rain', 'icon_snow', 'icon_wind', 'CRASH DATE', 'CRASH TIME',\n",
       "       'BOROUGH', 'ON STREET NAME', 'CROSS STREET NAME', 'OFF STREET NAME',\n",
       "       'NUMBER OF PERSONS INJURED', 'NUMBER OF PERSONS KILLED', 'factor1_-1',\n",
       "       'factor1_Aggressive Driving/Road Rage', 'factor1_Alcohol Involvement',\n",
       "       'factor1_Animals Action', 'factor1_Backing Unsafely',\n",
       "       'factor1_Brakes Defective', 'factor1_Cell Phone (hand-Held)',\n",
       "       'factor1_Driver Inattention/Distraction', 'factor1_Driver Inexperience',\n",
       "       'factor1_Driverless/Runaway Vehicle', 'factor1_Failure to Keep Right',\n",
       "       'factor1_Failure to Yield Right-of-Way', 'factor1_Fatigued/Drowsy',\n",
       "       'factor1_Fell Asleep', 'factor1_Following Too Closely', 'factor1_Glare',\n",
       "       'factor1_Headlights Defective', 'factor1_Illnes',\n",
       "       'factor1_Lost Consciousness', 'factor1_Obstruction/Debris',\n",
       "       'factor1_Other Lighting Defects', 'factor1_Other Vehicular',\n",
       "       'factor1_Outside Car Distraction', 'factor1_Oversized Vehicle',\n",
       "       'factor1_Passenger Distraction', 'factor1_Passing Too Closely',\n",
       "       'factor1_Passing or Lane Usage Improper', 'factor1_Pavement Defective',\n",
       "       'factor1_Pavement Slippery',\n",
       "       'factor1_Pedestrian/Bicyclist/Other Pedestrian Error/Confusion',\n",
       "       'factor1_Reaction to Uninvolved Vehicle', 'factor1_Steering Failure',\n",
       "       'factor1_Tire Failure/Inadequate',\n",
       "       'factor1_Traffic Control Disregarded', 'factor1_Turning Improperly',\n",
       "       'factor1_Unsafe Lane Changing', 'factor1_Unsafe Speed',\n",
       "       'factor1_Unspecified', 'factor1_View Obstructed/Limited',\n",
       "       'factor1_Windshield Inadequate'],\n",
       "      dtype='object')"
      ]
     },
     "execution_count": 8,
     "metadata": {},
     "output_type": "execute_result"
    }
   ],
   "source": [
    "df.columns"
   ]
  },
  {
   "cell_type": "markdown",
   "metadata": {
    "id": "6_W7USlF2Lr8"
   },
   "source": [
    "**Eliminating Collisions Data**"
   ]
  },
  {
   "cell_type": "code",
   "execution_count": 31,
   "metadata": {
    "id": "qUpp0bJz2N4m"
   },
   "outputs": [],
   "source": [
    "df = df[['speed', 'travel_time', 'data_as_of', 'link_points', 'hour_sin',\n",
    "       'hour_cos', 'minute_sin', 'minute_cos', 'day_sin', 'day_cos',\n",
    "       'week_num_sin', 'week_num_cos', 'month_sin', 'month_cos', 'is_holiday',\n",
    "       'is_non_business_day', 'temp', 'feelslike', 'dew', 'humidity', 'precip',\n",
    "       'snow', 'snowdepth', 'windgust', 'windspeed', 'winddir', 'cloudcover',\n",
    "       'visibility', 'solarradiation', 'solarenergy', 'uvindex', 'hour',\n",
    "       'icon_clear', 'icon_cloudy', 'icon_fog', 'icon_partly cloudy',\n",
    "       'icon_rain', 'icon_snow', 'icon_wind']]"
   ]
  },
  {
   "cell_type": "markdown",
   "metadata": {
    "id": "_8JjxfJ-0nev"
   },
   "source": [
    "**Returning Old Scales**"
   ]
  },
  {
   "cell_type": "code",
   "execution_count": 9,
   "metadata": {
    "colab": {
     "base_uri": "https://localhost:8080/"
    },
    "id": "4MR3v2I0Zeve",
    "outputId": "4c0c2f1a-dd49-4e8b-cf15-c1897daccb71"
   },
   "outputs": [],
   "source": [
    "df['speed_original'] = df['speed'] * (63.01 - 0.31) + 0.31"
   ]
  },
  {
   "cell_type": "code",
   "execution_count": 10,
   "metadata": {
    "colab": {
     "base_uri": "https://localhost:8080/"
    },
    "id": "ayTYPexfaVnv",
    "outputId": "f43db1a1-e7c8-46f6-cad0-590617eec5a5"
   },
   "outputs": [],
   "source": [
    "df['travel_time_original'] = df['travel_time'] * (1040.92 - 5.25) + 5.25"
   ]
  },
  {
   "cell_type": "code",
   "execution_count": 11,
   "metadata": {
    "colab": {
     "base_uri": "https://localhost:8080/",
     "height": 458
    },
    "id": "5678BynlZ-KW",
    "outputId": "8cafb873-0922-4c9e-9db9-339f28fa0fe3"
   },
   "outputs": [
    {
     "data": {
      "text/plain": [
       "0        53.02\n",
       "1        56.75\n",
       "2        58.22\n",
       "3        58.48\n",
       "4        60.27\n",
       "         ...  \n",
       "31521    37.28\n",
       "31522    36.24\n",
       "31523    36.50\n",
       "31524    38.42\n",
       "31525    40.90\n",
       "Name: speed_original, Length: 31526, dtype: float64"
      ]
     },
     "execution_count": 11,
     "metadata": {},
     "output_type": "execute_result"
    }
   ],
   "source": [
    "df['speed_original']"
   ]
  },
  {
   "cell_type": "code",
   "execution_count": 12,
   "metadata": {
    "colab": {
     "base_uri": "https://localhost:8080/",
     "height": 458
    },
    "id": "_tkRFs-uZ2F4",
    "outputId": "b1f7914d-d96a-4537-dbf3-adc9d38b2f35"
   },
   "outputs": [
    {
     "data": {
      "text/plain": [
       "0         70.83\n",
       "1         66.00\n",
       "2         64.29\n",
       "3         64.12\n",
       "4         62.20\n",
       "          ...  \n",
       "31521    101.17\n",
       "31522    103.92\n",
       "31523    103.00\n",
       "31524     98.17\n",
       "31525     91.83\n",
       "Name: travel_time_original, Length: 31526, dtype: float64"
      ]
     },
     "execution_count": 12,
     "metadata": {},
     "output_type": "execute_result"
    }
   ],
   "source": [
    "df['travel_time_original']"
   ]
  },
  {
   "cell_type": "code",
   "execution_count": 13,
   "metadata": {
    "colab": {
     "base_uri": "https://localhost:8080/",
     "height": 1000
    },
    "id": "hEDpSdw_WqBI",
    "outputId": "398454e9-126f-4bb6-cdd2-f8ad8353e8eb"
   },
   "outputs": [
    {
     "data": {
      "text/plain": [
       "speed                              0\n",
       "travel_time                        0\n",
       "data_as_of                         0\n",
       "link_points                        0\n",
       "hour_sin                           0\n",
       "                                  ..\n",
       "factor1_Unspecified                0\n",
       "factor1_View Obstructed/Limited    0\n",
       "factor1_Windshield Inadequate      0\n",
       "speed_original                     0\n",
       "travel_time_original               0\n",
       "Length: 89, dtype: int64"
      ]
     },
     "execution_count": 13,
     "metadata": {},
     "output_type": "execute_result"
    }
   ],
   "source": [
    "df.isna().sum()"
   ]
  },
  {
   "cell_type": "code",
   "execution_count": 37,
   "metadata": {
    "id": "IJ-b9ZXuWvVX"
   },
   "outputs": [],
   "source": [
    "df = df.drop('windgust', axis = 1)"
   ]
  },
  {
   "cell_type": "code",
   "execution_count": 38,
   "metadata": {
    "colab": {
     "base_uri": "https://localhost:8080/",
     "height": 1000
    },
    "id": "wO_aEdzjW26Q",
    "outputId": "0c20b087-8c2c-4f52-9790-1d7bc1ef32e0"
   },
   "outputs": [
    {
     "data": {
      "text/html": [
       "<div>\n",
       "<style scoped>\n",
       "    .dataframe tbody tr th:only-of-type {\n",
       "        vertical-align: middle;\n",
       "    }\n",
       "\n",
       "    .dataframe tbody tr th {\n",
       "        vertical-align: top;\n",
       "    }\n",
       "\n",
       "    .dataframe thead th {\n",
       "        text-align: right;\n",
       "    }\n",
       "</style>\n",
       "<table border=\"1\" class=\"dataframe\">\n",
       "  <thead>\n",
       "    <tr style=\"text-align: right;\">\n",
       "      <th></th>\n",
       "      <th>0</th>\n",
       "    </tr>\n",
       "  </thead>\n",
       "  <tbody>\n",
       "    <tr>\n",
       "      <th>speed</th>\n",
       "      <td>0</td>\n",
       "    </tr>\n",
       "    <tr>\n",
       "      <th>travel_time</th>\n",
       "      <td>0</td>\n",
       "    </tr>\n",
       "    <tr>\n",
       "      <th>data_as_of</th>\n",
       "      <td>0</td>\n",
       "    </tr>\n",
       "    <tr>\n",
       "      <th>link_points</th>\n",
       "      <td>0</td>\n",
       "    </tr>\n",
       "    <tr>\n",
       "      <th>hour_sin</th>\n",
       "      <td>0</td>\n",
       "    </tr>\n",
       "    <tr>\n",
       "      <th>hour_cos</th>\n",
       "      <td>0</td>\n",
       "    </tr>\n",
       "    <tr>\n",
       "      <th>minute_sin</th>\n",
       "      <td>0</td>\n",
       "    </tr>\n",
       "    <tr>\n",
       "      <th>minute_cos</th>\n",
       "      <td>0</td>\n",
       "    </tr>\n",
       "    <tr>\n",
       "      <th>day_sin</th>\n",
       "      <td>0</td>\n",
       "    </tr>\n",
       "    <tr>\n",
       "      <th>day_cos</th>\n",
       "      <td>0</td>\n",
       "    </tr>\n",
       "    <tr>\n",
       "      <th>week_num_sin</th>\n",
       "      <td>0</td>\n",
       "    </tr>\n",
       "    <tr>\n",
       "      <th>week_num_cos</th>\n",
       "      <td>0</td>\n",
       "    </tr>\n",
       "    <tr>\n",
       "      <th>month_sin</th>\n",
       "      <td>0</td>\n",
       "    </tr>\n",
       "    <tr>\n",
       "      <th>month_cos</th>\n",
       "      <td>0</td>\n",
       "    </tr>\n",
       "    <tr>\n",
       "      <th>is_holiday</th>\n",
       "      <td>0</td>\n",
       "    </tr>\n",
       "    <tr>\n",
       "      <th>is_non_business_day</th>\n",
       "      <td>0</td>\n",
       "    </tr>\n",
       "    <tr>\n",
       "      <th>temp</th>\n",
       "      <td>0</td>\n",
       "    </tr>\n",
       "    <tr>\n",
       "      <th>feelslike</th>\n",
       "      <td>0</td>\n",
       "    </tr>\n",
       "    <tr>\n",
       "      <th>dew</th>\n",
       "      <td>0</td>\n",
       "    </tr>\n",
       "    <tr>\n",
       "      <th>humidity</th>\n",
       "      <td>0</td>\n",
       "    </tr>\n",
       "    <tr>\n",
       "      <th>precip</th>\n",
       "      <td>0</td>\n",
       "    </tr>\n",
       "    <tr>\n",
       "      <th>snow</th>\n",
       "      <td>0</td>\n",
       "    </tr>\n",
       "    <tr>\n",
       "      <th>snowdepth</th>\n",
       "      <td>0</td>\n",
       "    </tr>\n",
       "    <tr>\n",
       "      <th>windspeed</th>\n",
       "      <td>0</td>\n",
       "    </tr>\n",
       "    <tr>\n",
       "      <th>winddir</th>\n",
       "      <td>0</td>\n",
       "    </tr>\n",
       "    <tr>\n",
       "      <th>cloudcover</th>\n",
       "      <td>0</td>\n",
       "    </tr>\n",
       "    <tr>\n",
       "      <th>visibility</th>\n",
       "      <td>0</td>\n",
       "    </tr>\n",
       "    <tr>\n",
       "      <th>solarradiation</th>\n",
       "      <td>0</td>\n",
       "    </tr>\n",
       "    <tr>\n",
       "      <th>solarenergy</th>\n",
       "      <td>0</td>\n",
       "    </tr>\n",
       "    <tr>\n",
       "      <th>uvindex</th>\n",
       "      <td>0</td>\n",
       "    </tr>\n",
       "    <tr>\n",
       "      <th>hour</th>\n",
       "      <td>0</td>\n",
       "    </tr>\n",
       "    <tr>\n",
       "      <th>icon_clear</th>\n",
       "      <td>0</td>\n",
       "    </tr>\n",
       "    <tr>\n",
       "      <th>icon_cloudy</th>\n",
       "      <td>0</td>\n",
       "    </tr>\n",
       "    <tr>\n",
       "      <th>icon_fog</th>\n",
       "      <td>0</td>\n",
       "    </tr>\n",
       "    <tr>\n",
       "      <th>icon_partly cloudy</th>\n",
       "      <td>0</td>\n",
       "    </tr>\n",
       "    <tr>\n",
       "      <th>icon_rain</th>\n",
       "      <td>0</td>\n",
       "    </tr>\n",
       "    <tr>\n",
       "      <th>icon_snow</th>\n",
       "      <td>0</td>\n",
       "    </tr>\n",
       "    <tr>\n",
       "      <th>icon_wind</th>\n",
       "      <td>0</td>\n",
       "    </tr>\n",
       "    <tr>\n",
       "      <th>speed_original</th>\n",
       "      <td>0</td>\n",
       "    </tr>\n",
       "    <tr>\n",
       "      <th>travel_time_original</th>\n",
       "      <td>0</td>\n",
       "    </tr>\n",
       "  </tbody>\n",
       "</table>\n",
       "</div><br><label><b>dtype:</b> int64</label>"
      ],
      "text/plain": [
       "speed                   0\n",
       "travel_time             0\n",
       "data_as_of              0\n",
       "link_points             0\n",
       "hour_sin                0\n",
       "hour_cos                0\n",
       "minute_sin              0\n",
       "minute_cos              0\n",
       "day_sin                 0\n",
       "day_cos                 0\n",
       "week_num_sin            0\n",
       "week_num_cos            0\n",
       "month_sin               0\n",
       "month_cos               0\n",
       "is_holiday              0\n",
       "is_non_business_day     0\n",
       "temp                    0\n",
       "feelslike               0\n",
       "dew                     0\n",
       "humidity                0\n",
       "precip                  0\n",
       "snow                    0\n",
       "snowdepth               0\n",
       "windspeed               0\n",
       "winddir                 0\n",
       "cloudcover              0\n",
       "visibility              0\n",
       "solarradiation          0\n",
       "solarenergy             0\n",
       "uvindex                 0\n",
       "hour                    0\n",
       "icon_clear              0\n",
       "icon_cloudy             0\n",
       "icon_fog                0\n",
       "icon_partly cloudy      0\n",
       "icon_rain               0\n",
       "icon_snow               0\n",
       "icon_wind               0\n",
       "speed_original          0\n",
       "travel_time_original    0\n",
       "dtype: int64"
      ]
     },
     "execution_count": 38,
     "metadata": {},
     "output_type": "execute_result"
    }
   ],
   "source": [
    "df.isna().sum()"
   ]
  },
  {
   "cell_type": "code",
   "execution_count": 14,
   "metadata": {
    "colab": {
     "base_uri": "https://localhost:8080/",
     "height": 367
    },
    "id": "FnMFk6sUW5mU",
    "outputId": "e43b5c82-1b55-4476-a2da-db24f1225a64"
   },
   "outputs": [
    {
     "data": {
      "text/html": [
       "<div>\n",
       "<style scoped>\n",
       "    .dataframe tbody tr th:only-of-type {\n",
       "        vertical-align: middle;\n",
       "    }\n",
       "\n",
       "    .dataframe tbody tr th {\n",
       "        vertical-align: top;\n",
       "    }\n",
       "\n",
       "    .dataframe thead th {\n",
       "        text-align: right;\n",
       "    }\n",
       "</style>\n",
       "<table border=\"1\" class=\"dataframe\">\n",
       "  <thead>\n",
       "    <tr style=\"text-align: right;\">\n",
       "      <th></th>\n",
       "      <th>speed</th>\n",
       "      <th>travel_time</th>\n",
       "      <th>hour_sin</th>\n",
       "      <th>hour_cos</th>\n",
       "      <th>minute_sin</th>\n",
       "      <th>minute_cos</th>\n",
       "      <th>day_sin</th>\n",
       "      <th>day_cos</th>\n",
       "      <th>week_num_sin</th>\n",
       "      <th>week_num_cos</th>\n",
       "      <th>...</th>\n",
       "      <th>icon_cloudy</th>\n",
       "      <th>icon_fog</th>\n",
       "      <th>icon_partly cloudy</th>\n",
       "      <th>icon_rain</th>\n",
       "      <th>icon_snow</th>\n",
       "      <th>icon_wind</th>\n",
       "      <th>NUMBER OF PERSONS INJURED</th>\n",
       "      <th>NUMBER OF PERSONS KILLED</th>\n",
       "      <th>speed_original</th>\n",
       "      <th>travel_time_original</th>\n",
       "    </tr>\n",
       "  </thead>\n",
       "  <tbody>\n",
       "    <tr>\n",
       "      <th>count</th>\n",
       "      <td>31526.000000</td>\n",
       "      <td>31526.000000</td>\n",
       "      <td>31526.000000</td>\n",
       "      <td>3.152600e+04</td>\n",
       "      <td>31526.0</td>\n",
       "      <td>31526.0</td>\n",
       "      <td>31526.000000</td>\n",
       "      <td>31526.000000</td>\n",
       "      <td>31526.000000</td>\n",
       "      <td>31526.000000</td>\n",
       "      <td>...</td>\n",
       "      <td>31526.000000</td>\n",
       "      <td>31526.000000</td>\n",
       "      <td>31526.000000</td>\n",
       "      <td>31526.000000</td>\n",
       "      <td>31526.000000</td>\n",
       "      <td>31526.000000</td>\n",
       "      <td>31526.000000</td>\n",
       "      <td>31526.000000</td>\n",
       "      <td>31526.000000</td>\n",
       "      <td>31526.000000</td>\n",
       "    </tr>\n",
       "    <tr>\n",
       "      <th>mean</th>\n",
       "      <td>0.588399</td>\n",
       "      <td>0.108347</td>\n",
       "      <td>-0.002343</td>\n",
       "      <td>-2.514785e-03</td>\n",
       "      <td>0.0</td>\n",
       "      <td>1.0</td>\n",
       "      <td>0.004898</td>\n",
       "      <td>-0.003437</td>\n",
       "      <td>-0.009277</td>\n",
       "      <td>-0.016558</td>\n",
       "      <td>...</td>\n",
       "      <td>0.215758</td>\n",
       "      <td>0.002601</td>\n",
       "      <td>0.602867</td>\n",
       "      <td>0.100584</td>\n",
       "      <td>0.005361</td>\n",
       "      <td>0.000412</td>\n",
       "      <td>0.038349</td>\n",
       "      <td>0.000063</td>\n",
       "      <td>37.202587</td>\n",
       "      <td>117.461888</td>\n",
       "    </tr>\n",
       "    <tr>\n",
       "      <th>std</th>\n",
       "      <td>0.189941</td>\n",
       "      <td>0.061662</td>\n",
       "      <td>0.707066</td>\n",
       "      <td>7.071617e-01</td>\n",
       "      <td>0.0</td>\n",
       "      <td>0.0</td>\n",
       "      <td>0.707008</td>\n",
       "      <td>0.707203</td>\n",
       "      <td>0.726536</td>\n",
       "      <td>0.686890</td>\n",
       "      <td>...</td>\n",
       "      <td>0.411354</td>\n",
       "      <td>0.050935</td>\n",
       "      <td>0.489312</td>\n",
       "      <td>0.300781</td>\n",
       "      <td>0.073021</td>\n",
       "      <td>0.020303</td>\n",
       "      <td>0.280966</td>\n",
       "      <td>0.007965</td>\n",
       "      <td>11.909299</td>\n",
       "      <td>63.861969</td>\n",
       "    </tr>\n",
       "    <tr>\n",
       "      <th>min</th>\n",
       "      <td>0.000000</td>\n",
       "      <td>0.000000</td>\n",
       "      <td>-1.000000</td>\n",
       "      <td>-1.000000e+00</td>\n",
       "      <td>0.0</td>\n",
       "      <td>1.0</td>\n",
       "      <td>-0.974928</td>\n",
       "      <td>-0.900969</td>\n",
       "      <td>-0.999561</td>\n",
       "      <td>-0.998244</td>\n",
       "      <td>...</td>\n",
       "      <td>0.000000</td>\n",
       "      <td>0.000000</td>\n",
       "      <td>0.000000</td>\n",
       "      <td>0.000000</td>\n",
       "      <td>0.000000</td>\n",
       "      <td>0.000000</td>\n",
       "      <td>0.000000</td>\n",
       "      <td>0.000000</td>\n",
       "      <td>0.310000</td>\n",
       "      <td>5.250000</td>\n",
       "    </tr>\n",
       "    <tr>\n",
       "      <th>25%</th>\n",
       "      <td>0.459171</td>\n",
       "      <td>0.072494</td>\n",
       "      <td>-0.707107</td>\n",
       "      <td>-7.071068e-01</td>\n",
       "      <td>0.0</td>\n",
       "      <td>1.0</td>\n",
       "      <td>-0.781831</td>\n",
       "      <td>-0.900969</td>\n",
       "      <td>-0.737833</td>\n",
       "      <td>-0.717507</td>\n",
       "      <td>...</td>\n",
       "      <td>0.000000</td>\n",
       "      <td>0.000000</td>\n",
       "      <td>0.000000</td>\n",
       "      <td>0.000000</td>\n",
       "      <td>0.000000</td>\n",
       "      <td>0.000000</td>\n",
       "      <td>0.000000</td>\n",
       "      <td>0.000000</td>\n",
       "      <td>29.100000</td>\n",
       "      <td>80.330000</td>\n",
       "    </tr>\n",
       "    <tr>\n",
       "      <th>50%</th>\n",
       "      <td>0.608612</td>\n",
       "      <td>0.088667</td>\n",
       "      <td>0.000000</td>\n",
       "      <td>-1.836970e-16</td>\n",
       "      <td>0.0</td>\n",
       "      <td>1.0</td>\n",
       "      <td>0.000000</td>\n",
       "      <td>-0.222521</td>\n",
       "      <td>-0.059241</td>\n",
       "      <td>0.029633</td>\n",
       "      <td>...</td>\n",
       "      <td>0.000000</td>\n",
       "      <td>0.000000</td>\n",
       "      <td>1.000000</td>\n",
       "      <td>0.000000</td>\n",
       "      <td>0.000000</td>\n",
       "      <td>0.000000</td>\n",
       "      <td>0.000000</td>\n",
       "      <td>0.000000</td>\n",
       "      <td>38.470000</td>\n",
       "      <td>97.080000</td>\n",
       "    </tr>\n",
       "    <tr>\n",
       "      <th>75%</th>\n",
       "      <td>0.725040</td>\n",
       "      <td>0.122462</td>\n",
       "      <td>0.707107</td>\n",
       "      <td>7.071068e-01</td>\n",
       "      <td>0.0</td>\n",
       "      <td>1.0</td>\n",
       "      <td>0.781831</td>\n",
       "      <td>0.623490</td>\n",
       "      <td>0.737833</td>\n",
       "      <td>0.674983</td>\n",
       "      <td>...</td>\n",
       "      <td>0.000000</td>\n",
       "      <td>0.000000</td>\n",
       "      <td>1.000000</td>\n",
       "      <td>0.000000</td>\n",
       "      <td>0.000000</td>\n",
       "      <td>0.000000</td>\n",
       "      <td>0.000000</td>\n",
       "      <td>0.000000</td>\n",
       "      <td>45.770000</td>\n",
       "      <td>132.080000</td>\n",
       "    </tr>\n",
       "    <tr>\n",
       "      <th>max</th>\n",
       "      <td>1.000000</td>\n",
       "      <td>1.000000</td>\n",
       "      <td>1.000000</td>\n",
       "      <td>1.000000e+00</td>\n",
       "      <td>0.0</td>\n",
       "      <td>1.0</td>\n",
       "      <td>0.974928</td>\n",
       "      <td>1.000000</td>\n",
       "      <td>0.999561</td>\n",
       "      <td>0.992981</td>\n",
       "      <td>...</td>\n",
       "      <td>1.000000</td>\n",
       "      <td>1.000000</td>\n",
       "      <td>1.000000</td>\n",
       "      <td>1.000000</td>\n",
       "      <td>1.000000</td>\n",
       "      <td>1.000000</td>\n",
       "      <td>9.000000</td>\n",
       "      <td>1.000000</td>\n",
       "      <td>63.010000</td>\n",
       "      <td>1040.920000</td>\n",
       "    </tr>\n",
       "  </tbody>\n",
       "</table>\n",
       "<p>8 rows × 41 columns</p>\n",
       "</div>"
      ],
      "text/plain": [
       "              speed   travel_time      hour_sin      hour_cos  minute_sin  \\\n",
       "count  31526.000000  31526.000000  31526.000000  3.152600e+04     31526.0   \n",
       "mean       0.588399      0.108347     -0.002343 -2.514785e-03         0.0   \n",
       "std        0.189941      0.061662      0.707066  7.071617e-01         0.0   \n",
       "min        0.000000      0.000000     -1.000000 -1.000000e+00         0.0   \n",
       "25%        0.459171      0.072494     -0.707107 -7.071068e-01         0.0   \n",
       "50%        0.608612      0.088667      0.000000 -1.836970e-16         0.0   \n",
       "75%        0.725040      0.122462      0.707107  7.071068e-01         0.0   \n",
       "max        1.000000      1.000000      1.000000  1.000000e+00         0.0   \n",
       "\n",
       "       minute_cos       day_sin       day_cos  week_num_sin  week_num_cos  \\\n",
       "count     31526.0  31526.000000  31526.000000  31526.000000  31526.000000   \n",
       "mean          1.0      0.004898     -0.003437     -0.009277     -0.016558   \n",
       "std           0.0      0.707008      0.707203      0.726536      0.686890   \n",
       "min           1.0     -0.974928     -0.900969     -0.999561     -0.998244   \n",
       "25%           1.0     -0.781831     -0.900969     -0.737833     -0.717507   \n",
       "50%           1.0      0.000000     -0.222521     -0.059241      0.029633   \n",
       "75%           1.0      0.781831      0.623490      0.737833      0.674983   \n",
       "max           1.0      0.974928      1.000000      0.999561      0.992981   \n",
       "\n",
       "       ...   icon_cloudy      icon_fog  icon_partly cloudy     icon_rain  \\\n",
       "count  ...  31526.000000  31526.000000        31526.000000  31526.000000   \n",
       "mean   ...      0.215758      0.002601            0.602867      0.100584   \n",
       "std    ...      0.411354      0.050935            0.489312      0.300781   \n",
       "min    ...      0.000000      0.000000            0.000000      0.000000   \n",
       "25%    ...      0.000000      0.000000            0.000000      0.000000   \n",
       "50%    ...      0.000000      0.000000            1.000000      0.000000   \n",
       "75%    ...      0.000000      0.000000            1.000000      0.000000   \n",
       "max    ...      1.000000      1.000000            1.000000      1.000000   \n",
       "\n",
       "          icon_snow     icon_wind  NUMBER OF PERSONS INJURED  \\\n",
       "count  31526.000000  31526.000000               31526.000000   \n",
       "mean       0.005361      0.000412                   0.038349   \n",
       "std        0.073021      0.020303                   0.280966   \n",
       "min        0.000000      0.000000                   0.000000   \n",
       "25%        0.000000      0.000000                   0.000000   \n",
       "50%        0.000000      0.000000                   0.000000   \n",
       "75%        0.000000      0.000000                   0.000000   \n",
       "max        1.000000      1.000000                   9.000000   \n",
       "\n",
       "       NUMBER OF PERSONS KILLED  speed_original  travel_time_original  \n",
       "count              31526.000000    31526.000000          31526.000000  \n",
       "mean                   0.000063       37.202587            117.461888  \n",
       "std                    0.007965       11.909299             63.861969  \n",
       "min                    0.000000        0.310000              5.250000  \n",
       "25%                    0.000000       29.100000             80.330000  \n",
       "50%                    0.000000       38.470000             97.080000  \n",
       "75%                    0.000000       45.770000            132.080000  \n",
       "max                    1.000000       63.010000           1040.920000  \n",
       "\n",
       "[8 rows x 41 columns]"
      ]
     },
     "execution_count": 14,
     "metadata": {},
     "output_type": "execute_result"
    }
   ],
   "source": [
    "df.describe()"
   ]
  },
  {
   "cell_type": "markdown",
   "metadata": {
    "id": "cHlWu4M2zbmg"
   },
   "source": [
    "**Sorting The Data**"
   ]
  },
  {
   "cell_type": "code",
   "execution_count": 15,
   "metadata": {
    "id": "ZPG9pvEebPK_"
   },
   "outputs": [],
   "source": [
    "df = df.sort_values('data_as_of').reset_index(drop=True)"
   ]
  },
  {
   "cell_type": "markdown",
   "metadata": {
    "id": "PJ990vPozeIP"
   },
   "source": [
    "**Detecting Outliers**"
   ]
  },
  {
   "cell_type": "code",
   "execution_count": 16,
   "metadata": {
    "colab": {
     "base_uri": "https://localhost:8080/",
     "height": 638
    },
    "id": "J4HanQtOXA7n",
    "outputId": "8d976103-2d50-4480-c815-aa90ed9d7992"
   },
   "outputs": [
    {
     "name": "stdout",
     "output_type": "stream",
     "text": [
      "       speed_original  travel_time_original\n",
      "count    31526.000000          31526.000000\n",
      "mean        37.202587            117.461888\n",
      "std         11.909299             63.861969\n",
      "min          0.310000              5.250000\n",
      "25%         29.100000             80.330000\n",
      "50%         38.470000             97.080000\n",
      "75%         45.770000            132.080000\n",
      "max         63.010000           1040.920000\n"
     ]
    },
    {
     "data": {
      "image/png": "[encoded data removed]",
      "text/plain": [
       "<Figure size 1500x600 with 2 Axes>"
      ]
     },
     "metadata": {},
     "output_type": "display_data"
    },
    {
     "name": "stdout",
     "output_type": "stream",
     "text": [
      "Potential speed outliers: 22 (0.07%)\n",
      "Potential travel time outliers: 566 (1.80%)\n"
     ]
    }
   ],
   "source": [
    "traffic_data = df.copy()\n",
    "\n",
    "print(traffic_data[['speed_original', 'travel_time_original']].describe())\n",
    "\n",
    "plt.figure(figsize=(15, 6))\n",
    "\n",
    "plt.subplot(1, 2, 1)\n",
    "sns.boxplot(y=traffic_data['speed_original'])\n",
    "plt.title('Speed Distribution')\n",
    "\n",
    "plt.subplot(1, 2, 2)\n",
    "sns.boxplot(y=traffic_data['travel_time_original'])\n",
    "plt.title('Travel Time Distribution')\n",
    "plt.tight_layout()\n",
    "plt.show()\n",
    "\n",
    "traffic_data['speed_zscore'] = np.abs((traffic_data['speed_original'] - traffic_data['speed_original'].mean()) / traffic_data['speed_original'].std())\n",
    "traffic_data['travel_time_zscore'] = np.abs((traffic_data['travel_time_original'] - traffic_data['travel_time_original'].mean()) / traffic_data['travel_time_original'].std())\n",
    "\n",
    "speed_outliers = traffic_data[traffic_data['speed_zscore'] > 3]\n",
    "travel_time_outliers = traffic_data[traffic_data['travel_time_zscore'] > 3]\n",
    "\n",
    "print(f\"Potential speed outliers: {len(speed_outliers)} ({len(speed_outliers)/len(traffic_data)*100:.2f}%)\")\n",
    "print(f\"Potential travel time outliers: {len(travel_time_outliers)} ({len(travel_time_outliers)/len(traffic_data)*100:.2f}%)\")"
   ]
  },
  {
   "cell_type": "markdown",
   "metadata": {
    "id": "Gvn235Xxzg29"
   },
   "source": [
    "**Handling Speed Outliers**"
   ]
  },
  {
   "cell_type": "code",
   "execution_count": 19,
   "metadata": {
    "id": "EKv26qPjcqYW"
   },
   "outputs": [],
   "source": [
    "min_valid_speed = 0\n",
    "max_valid_speed = 65\n",
    "\n",
    "cleaned_traffic_data = traffic_data.copy()\n",
    "cleaned_traffic_data.loc[cleaned_traffic_data['speed_original'] > max_valid_speed, 'speed_original'] = max_valid_speed"
   ]
  },
  {
   "cell_type": "markdown",
   "metadata": {
    "id": "kY4NORDxzjbb"
   },
   "source": [
    "**Handling Time Outliers**"
   ]
  },
  {
   "cell_type": "code",
   "execution_count": 20,
   "metadata": {
    "colab": {
     "base_uri": "https://localhost:8080/"
    },
    "id": "k7FtCjX1cxmu",
    "outputId": "60db485b-9f0f-41d0-e5c7-3232dd53dc77"
   },
   "outputs": [
    {
     "name": "stdout",
     "output_type": "stream",
     "text": [
      "Moderate outlier threshold (Q3 + 1.5*IQR): 209.71 minutes\n",
      "Extreme outlier threshold (Q3 + 3*IQR): 287.33 minutes\n"
     ]
    }
   ],
   "source": [
    "q1 = traffic_data['travel_time_original'].quantile(0.25)\n",
    "q3 = traffic_data['travel_time_original'].quantile(0.75)\n",
    "iqr = q3 - q1\n",
    "\n",
    "upper_bound_moderate = q3 + 1.5 * iqr\n",
    "\n",
    "upper_bound_extreme = q3 + 3 * iqr\n",
    "\n",
    "print(f\"Moderate outlier threshold (Q3 + 1.5*IQR): {upper_bound_moderate:.2f} minutes\")\n",
    "print(f\"Extreme outlier threshold (Q3 + 3*IQR): {upper_bound_extreme:.2f} minutes\")\n",
    "\n",
    "cleaned_traffic_data.loc[cleaned_traffic_data['travel_time_original'] > upper_bound_extreme, 'travel_time_original'] = upper_bound_extreme"
   ]
  },
  {
   "cell_type": "markdown",
   "metadata": {
    "id": "kO3XjaR8zoj2"
   },
   "source": [
    "**Creating a Boxplot**"
   ]
  },
  {
   "cell_type": "code",
   "execution_count": 21,
   "metadata": {
    "colab": {
     "base_uri": "https://localhost:8080/",
     "height": 439
    },
    "id": "kvYGQOZpdfB-",
    "outputId": "3c9d1944-304b-4104-93f7-2ab683c8739e"
   },
   "outputs": [
    {
     "data": {
      "image/png": "[encoded data removed]",
      "text/plain": [
       "<Figure size 1500x600 with 2 Axes>"
      ]
     },
     "metadata": {},
     "output_type": "display_data"
    }
   ],
   "source": [
    "plt.figure(figsize=(15, 6))\n",
    "\n",
    "plt.subplot(1, 2, 1)\n",
    "sns.boxplot(y=cleaned_traffic_data['speed_original'])\n",
    "plt.title('Cleaned Speed Distribution')\n",
    "\n",
    "plt.subplot(1, 2, 2)\n",
    "sns.boxplot(y=cleaned_traffic_data['travel_time_original'])\n",
    "plt.title('Cleaned Travel Time Distribution')\n",
    "plt.tight_layout()\n",
    "plt.show()"
   ]
  },
  {
   "cell_type": "markdown",
   "metadata": {
    "id": "qOw_yETMzttG"
   },
   "source": [
    "**Creating Lag Features**"
   ]
  },
  {
   "cell_type": "code",
   "execution_count": 22,
   "metadata": {
    "id": "s5BlSIDxzzge"
   },
   "outputs": [],
   "source": [
    "cleaned_traffic_data = cleaned_traffic_data.sort_values('data_as_of')\n",
    "\n",
    "for lag in [1, 2, 3, 24, 168]:\n",
    "    cleaned_traffic_data[f'speed_lag_{lag}h'] = cleaned_traffic_data['speed_original'].shift(lag)\n",
    "    cleaned_traffic_data[f'travel_time_lag_{lag}h'] = cleaned_traffic_data['travel_time_original'].shift(lag)"
   ]
  },
  {
   "cell_type": "markdown",
   "metadata": {
    "id": "Jx99cV4tz112"
   },
   "source": [
    "**Creating Rolling Windows Features**"
   ]
  },
  {
   "cell_type": "code",
   "execution_count": 23,
   "metadata": {
    "id": "t1pGZ7F_z5Ig"
   },
   "outputs": [],
   "source": [
    "for window in [3, 6, 12]:\n",
    "    cleaned_traffic_data[f'speed_rolling_mean_{window}h'] = cleaned_traffic_data['speed_original'].rolling(window=window).mean()\n",
    "    cleaned_traffic_data[f'travel_time_rolling_mean_{window}h'] = cleaned_traffic_data['travel_time_original'].rolling(window=window).mean()\n",
    "\n",
    "    cleaned_traffic_data[f'speed_rolling_std_{window}h'] = cleaned_traffic_data['speed_original'].rolling(window=window).std()\n",
    "    cleaned_traffic_data[f'travel_time_rolling_std_{window}h'] = cleaned_traffic_data['travel_time_original'].rolling(window=window).std()"
   ]
  },
  {
   "cell_type": "markdown",
   "metadata": {
    "id": "mLlKMNx2z9f2"
   },
   "source": [
    "**Creating Speed Changes and Their Percentages**\n"
   ]
  },
  {
   "cell_type": "code",
   "execution_count": 24,
   "metadata": {
    "id": "ZmJxIi5r0DLV"
   },
   "outputs": [],
   "source": [
    "cleaned_traffic_data['speed_change_1h'] = cleaned_traffic_data['speed_original'] - cleaned_traffic_data['speed_lag_1h']\n",
    "cleaned_traffic_data['speed_change_3h'] = cleaned_traffic_data['speed_original'] - cleaned_traffic_data['speed_lag_3h']\n",
    "cleaned_traffic_data['speed_change_24h'] = cleaned_traffic_data['speed_original'] - cleaned_traffic_data['speed_lag_24h']\n",
    "\n",
    "cleaned_traffic_data['speed_pct_change_1h'] = (cleaned_traffic_data['speed_original'] / cleaned_traffic_data['speed_lag_1h'] - 1) * 100\n",
    "cleaned_traffic_data['speed_pct_change_24h'] = (cleaned_traffic_data['speed_original'] / cleaned_traffic_data['speed_lag_24h'] - 1) * 100"
   ]
  },
  {
   "cell_type": "markdown",
   "metadata": {
    "id": "lt8STGLE0QH_"
   },
   "source": [
    "**Creating Week-Over-Week Differentials**"
   ]
  },
  {
   "cell_type": "code",
   "execution_count": 25,
   "metadata": {
    "id": "WO6p43jNek5v"
   },
   "outputs": [],
   "source": [
    "cleaned_traffic_data['speed_vs_last_week'] = cleaned_traffic_data['speed_original'] - cleaned_traffic_data['speed_lag_168h']\n",
    "cleaned_traffic_data['travel_time_vs_last_week'] = cleaned_traffic_data['travel_time_original'] - cleaned_traffic_data['travel_time_lag_168h']"
   ]
  },
  {
   "cell_type": "code",
   "execution_count": 26,
   "metadata": {
    "colab": {
     "base_uri": "https://localhost:8080/"
    },
    "id": "C0t0GYkyfAzw",
    "outputId": "49b03818-4062-4b94-dba6-0bf52bd77207"
   },
   "outputs": [
    {
     "data": {
      "text/plain": [
       "Index(['speed', 'travel_time', 'data_as_of', 'link_points', 'hour_sin',\n",
       "       'hour_cos', 'minute_sin', 'minute_cos', 'day_sin', 'day_cos',\n",
       "       ...\n",
       "       'travel_time_rolling_mean_12h', 'speed_rolling_std_12h',\n",
       "       'travel_time_rolling_std_12h', 'speed_change_1h', 'speed_change_3h',\n",
       "       'speed_change_24h', 'speed_pct_change_1h', 'speed_pct_change_24h',\n",
       "       'speed_vs_last_week', 'travel_time_vs_last_week'],\n",
       "      dtype='object', length=120)"
      ]
     },
     "execution_count": 26,
     "metadata": {},
     "output_type": "execute_result"
    }
   ],
   "source": [
    "cleaned_traffic_data.columns"
   ]
  },
  {
   "cell_type": "markdown",
   "metadata": {
    "id": "HTYUIM4i1OvU"
   },
   "source": [
    "**Detecting NULLs**"
   ]
  },
  {
   "cell_type": "code",
   "execution_count": 27,
   "metadata": {
    "id": "z42f1ZEdfCu0"
   },
   "outputs": [],
   "source": [
    "df_new = cleaned_traffic_data[['speed_lag_1h',\n",
    "       'travel_time_lag_1h', 'speed_lag_2h', 'travel_time_lag_2h',\n",
    "       'speed_lag_3h', 'travel_time_lag_3h', 'speed_lag_24h',\n",
    "       'travel_time_lag_24h', 'speed_lag_168h', 'travel_time_lag_168h',\n",
    "       'speed_rolling_mean_3h', 'travel_time_rolling_mean_3h',\n",
    "       'speed_rolling_std_3h', 'travel_time_rolling_std_3h',\n",
    "       'speed_rolling_mean_6h', 'travel_time_rolling_mean_6h',\n",
    "       'speed_rolling_std_6h', 'travel_time_rolling_std_6h',\n",
    "       'speed_rolling_mean_12h', 'travel_time_rolling_mean_12h',\n",
    "       'speed_rolling_std_12h', 'travel_time_rolling_std_12h',\n",
    "       'speed_change_1h', 'speed_change_3h', 'speed_change_24h',\n",
    "       'speed_pct_change_1h', 'speed_pct_change_24h', 'speed_vs_last_week',\n",
    "       'travel_time_vs_last_week']]"
   ]
  },
  {
   "cell_type": "code",
   "execution_count": 28,
   "metadata": {
    "colab": {
     "base_uri": "https://localhost:8080/",
     "height": 993
    },
    "id": "kKAEPQoVfltm",
    "outputId": "10979e1d-feef-4acd-eed6-e10db7a91901"
   },
   "outputs": [
    {
     "data": {
      "text/plain": [
       "speed_lag_1h                      1\n",
       "travel_time_lag_1h                1\n",
       "speed_lag_2h                      2\n",
       "travel_time_lag_2h                2\n",
       "speed_lag_3h                      3\n",
       "travel_time_lag_3h                3\n",
       "speed_lag_24h                    24\n",
       "travel_time_lag_24h              24\n",
       "speed_lag_168h                  168\n",
       "travel_time_lag_168h            168\n",
       "speed_rolling_mean_3h             2\n",
       "travel_time_rolling_mean_3h       2\n",
       "speed_rolling_std_3h              2\n",
       "travel_time_rolling_std_3h        2\n",
       "speed_rolling_mean_6h             5\n",
       "travel_time_rolling_mean_6h       5\n",
       "speed_rolling_std_6h              5\n",
       "travel_time_rolling_std_6h        5\n",
       "speed_rolling_mean_12h           11\n",
       "travel_time_rolling_mean_12h     11\n",
       "speed_rolling_std_12h            11\n",
       "travel_time_rolling_std_12h      11\n",
       "speed_change_1h                   1\n",
       "speed_change_3h                   3\n",
       "speed_change_24h                 24\n",
       "speed_pct_change_1h               1\n",
       "speed_pct_change_24h             24\n",
       "speed_vs_last_week              168\n",
       "travel_time_vs_last_week        168\n",
       "dtype: int64"
      ]
     },
     "execution_count": 28,
     "metadata": {},
     "output_type": "execute_result"
    }
   ],
   "source": [
    "df_new.isna().sum()"
   ]
  },
  {
   "cell_type": "markdown",
   "metadata": {
    "id": "AGzQZ6AS1TDq"
   },
   "source": [
    "**Dropping The First Week To Handle All NULLs**"
   ]
  },
  {
   "cell_type": "code",
   "execution_count": 29,
   "metadata": {
    "colab": {
     "base_uri": "https://localhost:8080/"
    },
    "id": "J58IMucwfMYM",
    "outputId": "55ff094a-df62-408b-d193-6c49a55f11e6"
   },
   "outputs": [
    {
     "name": "stdout",
     "output_type": "stream",
     "text": [
      "Original data shape: (31526, 120)\n",
      "Complete data shape: (31358, 120)\n",
      "Remaining null values: 33759\n"
     ]
    }
   ],
   "source": [
    "first_complete_index = 168\n",
    "complete_data = cleaned_traffic_data.iloc[first_complete_index:].copy()\n",
    "\n",
    "print(f\"Original data shape: {cleaned_traffic_data.shape}\")\n",
    "print(f\"Complete data shape: {complete_data.shape}\")\n",
    "\n",
    "remaining_nulls = complete_data.isna().sum().sum()\n",
    "print(f\"Remaining null values: {remaining_nulls}\")\n",
    "\n",
    "complete_data['speed'] = complete_data['speed_original']\n",
    "complete_data['travel_time'] = complete_data['travel_time_original']\n",
    "complete_data = complete_data.drop(['speed_original', 'travel_time_original'], axis = 1)"
   ]
  },
  {
   "cell_type": "code",
   "execution_count": 30,
   "metadata": {
    "colab": {
     "base_uri": "https://localhost:8080/"
    },
    "id": "rahVDNpBk714",
    "outputId": "370ceb4c-ae54-4ac5-fea2-0f669b4f54eb"
   },
   "outputs": [
    {
     "data": {
      "text/plain": [
       "Index(['speed', 'travel_time', 'data_as_of', 'link_points', 'hour_sin',\n",
       "       'hour_cos', 'minute_sin', 'minute_cos', 'day_sin', 'day_cos',\n",
       "       ...\n",
       "       'travel_time_rolling_mean_12h', 'speed_rolling_std_12h',\n",
       "       'travel_time_rolling_std_12h', 'speed_change_1h', 'speed_change_3h',\n",
       "       'speed_change_24h', 'speed_pct_change_1h', 'speed_pct_change_24h',\n",
       "       'speed_vs_last_week', 'travel_time_vs_last_week'],\n",
       "      dtype='object', length=118)"
      ]
     },
     "execution_count": 30,
     "metadata": {},
     "output_type": "execute_result"
    }
   ],
   "source": [
    "complete_data.columns"
   ]
  },
  {
   "cell_type": "code",
   "execution_count": 32,
   "metadata": {},
   "outputs": [
    {
     "data": {
      "image/png": "[encoded data removed]",
      "text/plain": [
       "<Figure size 1200x500 with 2 Axes>"
      ]
     },
     "metadata": {},
     "output_type": "display_data"
    }
   ],
   "source": [
    "complete_data[['speed', 'travel_time']].hist(bins=50, figsize=(12, 5))\n",
    "plt.show()"
   ]
  },
  {
   "cell_type": "code",
   "execution_count": null,
   "metadata": {},
   "outputs": [],
   "source": [
    "# reduce the spahrpen "
   ]
  },
  {
   "cell_type": "code",
   "execution_count": 33,
   "metadata": {},
   "outputs": [
    {
     "data": {
      "image/png": "[encoded data removed]",
      "text/plain": [
       "<Figure size 1200x500 with 2 Axes>"
      ]
     },
     "metadata": {},
     "output_type": "display_data"
    }
   ],
   "source": [
    "speed_lower = complete_data['speed'].quantile(0.002)\n",
    "speed_upper = complete_data['speed'].quantile(0.998)\n",
    "complete_data = complete_data[complete_data['travel_time'] <= 250]\n",
    "# Clip gently\n",
    "complete_data['speed'] = complete_data['speed'].clip(lower=speed_lower, upper=speed_upper)\n",
    "complete_data[['speed', 'travel_time']].hist(bins=50, figsize=(12, 5))\n",
    "plt.show()"
   ]
  },
  {
   "cell_type": "code",
   "execution_count": 36,
   "metadata": {
    "id": "NwJIZjGFl2JL"
   },
   "outputs": [],
   "source": [
    "complete_data.to_csv('../data/merged/Data.csv', index = False)"
   ]
  },
  {
   "cell_type": "code",
   "execution_count": null,
   "metadata": {},
   "outputs": [],
   "source": []
  }
 ],
 "metadata": {
  "colab": {
   "provenance": []
  },
  "kernelspec": {
   "display_name": "Python 3 (ipykernel)",
   "language": "python",
   "name": "python3"
  },
  "language_info": {
   "codemirror_mode": {
    "name": "ipython",
    "version": 3
   },
   "file_extension": ".py",
   "mimetype": "text/x-python",
   "name": "python",
   "nbconvert_exporter": "python",
   "pygments_lexer": "ipython3",
   "version": "3.12.3"
  }
 },
 "nbformat": 4,
 "nbformat_minor": 4
}
